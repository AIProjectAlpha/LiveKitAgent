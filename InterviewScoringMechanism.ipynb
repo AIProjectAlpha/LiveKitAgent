{
 "cells": [
  {
   "cell_type": "code",
   "execution_count": 1,
   "id": "81cbca2a-632b-4c2e-b5bb-1e2a2590eb58",
   "metadata": {},
   "outputs": [
    {
     "name": "stdout",
     "output_type": "stream",
     "text": [
      "Requirement already satisfied: sentence-transformers in /opt/anaconda3/lib/python3.12/site-packages (3.3.1)\n",
      "Requirement already satisfied: transformers<5.0.0,>=4.41.0 in /opt/anaconda3/lib/python3.12/site-packages (from sentence-transformers) (4.48.0)\n",
      "Requirement already satisfied: tqdm in /opt/anaconda3/lib/python3.12/site-packages (from sentence-transformers) (4.66.5)\n",
      "Requirement already satisfied: torch>=1.11.0 in /opt/anaconda3/lib/python3.12/site-packages (from sentence-transformers) (2.5.1)\n",
      "Requirement already satisfied: scikit-learn in /opt/anaconda3/lib/python3.12/site-packages (from sentence-transformers) (1.5.1)\n",
      "Requirement already satisfied: scipy in /opt/anaconda3/lib/python3.12/site-packages (from sentence-transformers) (1.13.1)\n",
      "Requirement already satisfied: huggingface-hub>=0.20.0 in /opt/anaconda3/lib/python3.12/site-packages (from sentence-transformers) (0.27.1)\n",
      "Requirement already satisfied: Pillow in /opt/anaconda3/lib/python3.12/site-packages (from sentence-transformers) (10.4.0)\n",
      "Requirement already satisfied: filelock in /opt/anaconda3/lib/python3.12/site-packages (from huggingface-hub>=0.20.0->sentence-transformers) (3.13.1)\n",
      "Requirement already satisfied: fsspec>=2023.5.0 in /opt/anaconda3/lib/python3.12/site-packages (from huggingface-hub>=0.20.0->sentence-transformers) (2024.6.1)\n",
      "Requirement already satisfied: packaging>=20.9 in /opt/anaconda3/lib/python3.12/site-packages (from huggingface-hub>=0.20.0->sentence-transformers) (24.1)\n",
      "Requirement already satisfied: pyyaml>=5.1 in /opt/anaconda3/lib/python3.12/site-packages (from huggingface-hub>=0.20.0->sentence-transformers) (6.0.1)\n",
      "Requirement already satisfied: requests in /opt/anaconda3/lib/python3.12/site-packages (from huggingface-hub>=0.20.0->sentence-transformers) (2.32.3)\n",
      "Requirement already satisfied: typing-extensions>=3.7.4.3 in /opt/anaconda3/lib/python3.12/site-packages (from huggingface-hub>=0.20.0->sentence-transformers) (4.11.0)\n",
      "Requirement already satisfied: networkx in /opt/anaconda3/lib/python3.12/site-packages (from torch>=1.11.0->sentence-transformers) (3.3)\n",
      "Requirement already satisfied: jinja2 in /opt/anaconda3/lib/python3.12/site-packages (from torch>=1.11.0->sentence-transformers) (3.1.4)\n",
      "Requirement already satisfied: setuptools in /opt/anaconda3/lib/python3.12/site-packages (from torch>=1.11.0->sentence-transformers) (75.1.0)\n",
      "Requirement already satisfied: sympy==1.13.1 in /opt/anaconda3/lib/python3.12/site-packages (from torch>=1.11.0->sentence-transformers) (1.13.1)\n",
      "Requirement already satisfied: mpmath<1.4,>=1.1.0 in /opt/anaconda3/lib/python3.12/site-packages (from sympy==1.13.1->torch>=1.11.0->sentence-transformers) (1.3.0)\n",
      "Requirement already satisfied: numpy>=1.17 in /opt/anaconda3/lib/python3.12/site-packages (from transformers<5.0.0,>=4.41.0->sentence-transformers) (1.26.4)\n",
      "Requirement already satisfied: regex!=2019.12.17 in /opt/anaconda3/lib/python3.12/site-packages (from transformers<5.0.0,>=4.41.0->sentence-transformers) (2024.9.11)\n",
      "Requirement already satisfied: tokenizers<0.22,>=0.21 in /opt/anaconda3/lib/python3.12/site-packages (from transformers<5.0.0,>=4.41.0->sentence-transformers) (0.21.0)\n",
      "Requirement already satisfied: safetensors>=0.4.1 in /opt/anaconda3/lib/python3.12/site-packages (from transformers<5.0.0,>=4.41.0->sentence-transformers) (0.5.2)\n",
      "Requirement already satisfied: joblib>=1.2.0 in /opt/anaconda3/lib/python3.12/site-packages (from scikit-learn->sentence-transformers) (1.4.2)\n",
      "Requirement already satisfied: threadpoolctl>=3.1.0 in /opt/anaconda3/lib/python3.12/site-packages (from scikit-learn->sentence-transformers) (3.5.0)\n",
      "Requirement already satisfied: MarkupSafe>=2.0 in /opt/anaconda3/lib/python3.12/site-packages (from jinja2->torch>=1.11.0->sentence-transformers) (2.1.3)\n",
      "Requirement already satisfied: charset-normalizer<4,>=2 in /opt/anaconda3/lib/python3.12/site-packages (from requests->huggingface-hub>=0.20.0->sentence-transformers) (3.3.2)\n",
      "Requirement already satisfied: idna<4,>=2.5 in /opt/anaconda3/lib/python3.12/site-packages (from requests->huggingface-hub>=0.20.0->sentence-transformers) (3.7)\n",
      "Requirement already satisfied: urllib3<3,>=1.21.1 in /opt/anaconda3/lib/python3.12/site-packages (from requests->huggingface-hub>=0.20.0->sentence-transformers) (2.2.3)\n",
      "Requirement already satisfied: certifi>=2017.4.17 in /opt/anaconda3/lib/python3.12/site-packages (from requests->huggingface-hub>=0.20.0->sentence-transformers) (2024.12.14)\n",
      "Note: you may need to restart the kernel to use updated packages.\n"
     ]
    }
   ],
   "source": [
    "pip install sentence-transformers"
   ]
  },
  {
   "cell_type": "code",
   "execution_count": 3,
   "id": "7afeb0c2-b22e-43e3-973d-a1b4608be60e",
   "metadata": {},
   "outputs": [],
   "source": [
    "from sentence_transformers import SentenceTransformer, util"
   ]
  },
  {
   "cell_type": "code",
   "execution_count": 5,
   "id": "95706c7b-c9bc-4115-b438-38f0e585c0c2",
   "metadata": {},
   "outputs": [],
   "source": [
    "model = SentenceTransformer('all-MiniLM-L6-v2')"
   ]
  },
  {
   "cell_type": "code",
   "execution_count": 7,
   "id": "27e09dde-951f-4921-ae07-3502c7ecdc50",
   "metadata": {},
   "outputs": [],
   "source": [
    "# Sample answers for each question (You can expand these answers as needed)\n",
    "EXPECTED_ANSWERS = {\n",
    "    \"What are Microservices?\": \"Microservices is an architectural style that structures an application as a collection of small, independent services that can be deployed independently. These services are typically focused on a specific business function and are loosely coupled with each other.\",\n",
    "    \"What is the difference between Monolithic and Microservices architectures?\": \"Monolithic architecture is a traditional model where all the components of an application are tightly integrated and operate as a single service. In contrast, microservices are small, independent services that communicate with each other over a network, allowing for more flexibility and scalability.\",\n",
    "    \"Explain the concept of RESTful APIs.\": \"REST (Representational State Transfer) is an architectural style for designing networked applications. RESTful APIs are web services that follow the principles of REST, using HTTP methods like GET, POST, PUT, and DELETE for communication between the client and server.\",\n",
    "    \"What is the purpose of HTTP status codes?\": \"HTTP status codes are three-digit numbers returned by the server to indicate the result of the HTTP request. They are divided into five categories: 1xx (informational), 2xx (successful), 3xx (redirection), 4xx (client error), and 5xx (server error).\",\n",
    "    \"What is database normalization, and why is it important?\": \"Database normalization is the process of organizing the attributes and tables of a database to minimize redundancy and dependency. It ensures data integrity and reduces the likelihood of anomalies when updating or deleting data.\",\n",
    "    \"What are the different types of databases?\": \"The main types of databases are relational databases (SQL), NoSQL databases, in-memory databases, and graph databases. Relational databases use structured query language (SQL), while NoSQL databases store data in various formats like key-value pairs, documents, or graphs.\",\n",
    "    \"What is caching, and how does it improve performance?\": \"Caching is the process of storing frequently accessed data in a faster storage medium, such as memory. It reduces the time required to fetch data from the primary source (like a database) and improves the overall performance of an application.\",\n",
    "    \"What is the difference between SQL and NoSQL databases?\": \"SQL databases are relational and store data in tables with a fixed schema. They are suitable for structured data and support complex queries. NoSQL databases, on the other hand, are non-relational and store data in various formats, allowing for more flexibility in terms of schema and data types.\",\n",
    "    \"What is JWT (JSON Web Token), and how is it used in authentication?\": \"JWT is a compact, URL-safe token used for securely transmitting information between parties. It is often used in authentication to verify the identity of a user by embedding claims in the token, such as user roles or permissions.\",\n",
    "    \"What is the importance of load balancing in distributed systems?\": \"Load balancing distributes incoming network traffic across multiple servers, ensuring that no single server is overwhelmed. It improves availability, reliability, and scalability in distributed systems.\"\n",
    "}\n",
    "\n",
    "# Keywords for each question (for keyword matching)\n",
    "KEYWORDS = {\n",
    "    \"What are Microservices?\": [\"independently deployable\", \"loosely coupled\", \"small services\", \"business functions\"],\n",
    "    \"What is the difference between Monolithic and Microservices architectures?\": [\"monolithic\", \"microservices\", \"independent services\", \"tightly coupled\"],\n",
    "    \"Explain the concept of RESTful APIs.\": [\"REST\", \"HTTP\", \"GET\", \"POST\", \"PUT\", \"DELETE\", \"API\"],\n",
    "    \"What is the purpose of HTTP status codes?\": [\"status codes\", \"HTTP\", \"client error\", \"server error\", \"redirection\"],\n",
    "    \"What is database normalization, and why is it important?\": [\"normalization\", \"redundancy\", \"data integrity\", \"database design\"],\n",
    "    \"What are the different types of databases?\": [\"SQL\", \"NoSQL\", \"relational\", \"graph\", \"document\"],\n",
    "    \"What is caching, and how does it improve performance?\": [\"caching\", \"performance\", \"data storage\", \"memory\", \"database\"],\n",
    "    \"What is the difference between SQL and NoSQL databases?\": [\"SQL\", \"NoSQL\", \"relational\", \"non-relational\", \"structured data\"],\n",
    "    \"What is JWT (JSON Web Token), and how is it used in authentication?\": [\"JWT\", \"authentication\", \"token\", \"security\", \"identity\"],\n",
    "    \"What is the importance of load balancing in distributed systems?\": [\"load balancing\", \"distributed systems\", \"traffic distribution\", \"scalability\"]\n",
    "}"
   ]
  },
  {
   "cell_type": "code",
   "execution_count": 9,
   "id": "e00d8f9c-2874-42f1-bfbd-d21ed079875d",
   "metadata": {},
   "outputs": [],
   "source": [
    "## Semantic and keyword similarity\n",
    "\n",
    "# Check if user's input contains keywords\n",
    "def check_keywords(user_input, question):\n",
    "    keyword_matches = {keyword: keyword.lower() in user_input.lower() for keyword in KEYWORDS[question]}\n",
    "    match_count = sum(keyword_matches.values())\n",
    "    return match_count, keyword_matches\n",
    "\n",
    "# Check similarity between the user's answer and the expected answer\n",
    "def check_similarity(user_input, question):\n",
    "    model_input = SentenceTransformer('all-MiniLM-L6-v2')\n",
    "    expected_answer = EXPECTED_ANSWERS[question]\n",
    "    expected_embedding = model_input.encode(expected_answer, convert_to_tensor=True)\n",
    "    user_embedding = model_input.encode(user_input, convert_to_tensor=True)\n",
    "    similarity = util.pytorch_cos_sim(expected_embedding, user_embedding).item()\n",
    "    return similarity"
   ]
  },
  {
   "cell_type": "code",
   "execution_count": 11,
   "id": "45bd847a-7c5f-4488-b62d-fadc214415cd",
   "metadata": {},
   "outputs": [],
   "source": [
    "questions = [\n",
    "    \"What are Microservices?\",\n",
    "    \"What is the difference between Monolithic and Microservices architectures?\",\n",
    "    \"Explain the concept of RESTful APIs.\",\n",
    "    \"What is the purpose of HTTP status codes?\",\n",
    "    \"What is database normalization, and why is it important?\",\n",
    "    \"What are the different types of databases?\",\n",
    "    \"What is caching, and how does it improve performance?\",\n",
    "    \"What is the difference between SQL and NoSQL databases?\",\n",
    "    \"What is JWT (JSON Web Token), and how is it used in authentication?\",\n",
    "    \"What is the importance of load balancing in distributed systems?\"\n",
    "]\n",
    "\n",
    "answers = [\n",
    "    \"Microservices is an architectural style that structures an application as a collection of small, independent services that can be deployed independently. These services are typically focused on a specific business function and are loosely coupled with each other.\",\n",
    "    \"Monolithic architecture is a traditional model where all the components of an application are tightly integrated and operate as a single service. In contrast, microservices are small, independent services that communicate with each other over a network, allowing for more flexibility and scalability.\",\n",
    "    \"REST (Representational State Transfer) is an architectural style for designing networked applications. RESTful APIs are web services that follow the principles of REST, using HTTP methods like GET, POST, PUT, and DELETE for communication between the client and server.\",\n",
    "    \"HTTP status codes are three-digit numbers returned by the server to indicate the result of the HTTP request. They are divided into five categories: 1xx (informational), 2xx (successful), 3xx (redirection), 4xx (client error), and 5xx (server error).\",\n",
    "    \"Database normalization is the process of organizing the attributes and tables of a database to minimize redundancy and dependency. It ensures data integrity and reduces the likelihood of anomalies when updating or deleting data.\",\n",
    "    \"The main types of databases are relational databases (SQL), NoSQL databases, in-memory databases, and graph databases. Relational databases use structured query language (SQL), while NoSQL databases store data in various formats like key-value pairs, documents, or graphs.\",\n",
    "    \"Caching is the process of storing frequently accessed data in a faster storage medium, such as memory. It reduces the time required to fetch data from the primary source (like a database) and improves the overall performance of an application.\",\n",
    "    \"SQL databases are relational and store data in tables with a fixed schema. They are suitable for structured data and support complex queries. NoSQL databases, on the other hand, are non-relational and store data in various formats, allowing for more flexibility in terms of schema and data types.\",\n",
    "    \"JWT is a compact, URL-safe token used for securely transmitting information between parties. It is often used in authentication to verify the identity of a user by embedding claims in the token, such as user roles or permissions.\",\n",
    "    \"Load balancing distributes incoming network traffic across multiple servers, ensuring that no single server is overwhelmed. It improves availability, reliability, and scalability in distributed systems.\"\n",
    "]\n"
   ]
  },
  {
   "cell_type": "code",
   "execution_count": 13,
   "id": "6a917e4d-ed93-43f7-8b16-9f8eae707ceb",
   "metadata": {},
   "outputs": [],
   "source": [
    "# @app.route('/check_answer', methods=['POST'])\n",
    "def check_answers():\n",
    "\n",
    "    resultsArray = [];\n",
    "\n",
    "    for question in questions:\n",
    "        # Display the current question\n",
    "        print(f\"Question: {question}\")\n",
    "        \n",
    "        user_input = input(\"Provide your answer\")\n",
    "        \n",
    "        # Calculate similarity and keyword matches\n",
    "        similarity = check_similarity(user_input, question)\n",
    "        match_count, keyword_matches = check_keywords(user_input, question)\n",
    "\n",
    "        similarity_score = round(similarity * 100, 2)\n",
    "        keyword_score = (match_count / len(KEYWORDS[question])) * 100\n",
    "        total_score = (similarity_score + keyword_score) / 2 \n",
    "\n",
    "        \n",
    "        feedback = \"Good job!\" if total_score > 75 else \"Try to match more key points in your answer.\"\n",
    "        result = {\n",
    "            \"question\": question,\n",
    "            \"expected_answer\": EXPECTED_ANSWERS[question],\n",
    "            \"user_answer\": user_input,\n",
    "            \"similarity_score\": similarity_score,\n",
    "            \"keyword_score\": keyword_score,\n",
    "            \"total_score\": round(total_score, 2),\n",
    "            \"feedback\": feedback,\n",
    "            \"keyword_matches\": keyword_matches\n",
    "        }\n",
    "        \n",
    "        resultsArray.append(result)\n",
    "\n",
    "    return resultsArray"
   ]
  },
  {
   "cell_type": "code",
   "execution_count": 15,
   "id": "7325cd2c-c702-4a8b-9eb3-b2b661d82a14",
   "metadata": {},
   "outputs": [
    {
     "name": "stdout",
     "output_type": "stream",
     "text": [
      "Question: What are Microservices?\n"
     ]
    },
    {
     "name": "stdin",
     "output_type": "stream",
     "text": [
      "Provide your answer uyvdyucuiyqvuicvqiucviuyqvcyiuqvcuyvuycqc\n"
     ]
    },
    {
     "name": "stdout",
     "output_type": "stream",
     "text": [
      "Question: What is the difference between Monolithic and Microservices architectures?\n"
     ]
    },
    {
     "name": "stdin",
     "output_type": "stream",
     "text": [
      "Provide your answer hbdvwuywuywuycwq\n"
     ]
    },
    {
     "name": "stdout",
     "output_type": "stream",
     "text": [
      "Question: Explain the concept of RESTful APIs.\n"
     ]
    },
    {
     "name": "stdin",
     "output_type": "stream",
     "text": [
      "Provide your answer `xwxwxwxwxwxwx\n"
     ]
    },
    {
     "name": "stdout",
     "output_type": "stream",
     "text": [
      "Question: What is the purpose of HTTP status codes?\n"
     ]
    },
    {
     "name": "stdin",
     "output_type": "stream",
     "text": [
      "Provide your answer vfvvdvvrvreververvrevrvrvrvrrvr\n"
     ]
    },
    {
     "name": "stdout",
     "output_type": "stream",
     "text": [
      "Question: What is database normalization, and why is it important?\n"
     ]
    },
    {
     "name": "stdin",
     "output_type": "stream",
     "text": [
      "Provide your answer cececececcececec\n"
     ]
    },
    {
     "name": "stdout",
     "output_type": "stream",
     "text": [
      "Question: What are the different types of databases?\n"
     ]
    },
    {
     "name": "stdin",
     "output_type": "stream",
     "text": [
      "Provide your answer Databases are used to collected data in an organised format, each database can be used for different purposes\n"
     ]
    },
    {
     "name": "stdout",
     "output_type": "stream",
     "text": [
      "Question: What is caching, and how does it improve performance?\n"
     ]
    },
    {
     "name": "stdin",
     "output_type": "stream",
     "text": [
      "Provide your answer caching provides a way of storing data which can be accessed fastly\n"
     ]
    },
    {
     "name": "stdout",
     "output_type": "stream",
     "text": [
      "Question: What is the difference between SQL and NoSQL databases?\n"
     ]
    },
    {
     "name": "stdin",
     "output_type": "stream",
     "text": [
      "Provide your answer Relatioonal and non relational\n"
     ]
    },
    {
     "name": "stdout",
     "output_type": "stream",
     "text": [
      "Question: What is JWT (JSON Web Token), and how is it used in authentication?\n"
     ]
    },
    {
     "name": "stdin",
     "output_type": "stream",
     "text": [
      "Provide your answer JWT is a token that can be comunivates across ans it contiNS certain encoded information such as user id and time to live\n"
     ]
    },
    {
     "name": "stdout",
     "output_type": "stream",
     "text": [
      "Question: What is the importance of load balancing in distributed systems?\n"
     ]
    },
    {
     "name": "stdin",
     "output_type": "stream",
     "text": [
      "Provide your answer to distribute load across servers and systems\n"
     ]
    },
    {
     "data": {
      "text/plain": [
       "[{'question': 'What are Microservices?',\n",
       "  'expected_answer': 'Microservices is an architectural style that structures an application as a collection of small, independent services that can be deployed independently. These services are typically focused on a specific business function and are loosely coupled with each other.',\n",
       "  'user_answer': 'uyvdyucuiyqvuicvqiucviuyqvcyiuqvcuyvuycqc',\n",
       "  'similarity_score': -14.49,\n",
       "  'keyword_score': 0.0,\n",
       "  'total_score': -7.25,\n",
       "  'feedback': 'Try to match more key points in your answer.',\n",
       "  'keyword_matches': {'independently deployable': False,\n",
       "   'loosely coupled': False,\n",
       "   'small services': False,\n",
       "   'business functions': False}},\n",
       " {'question': 'What is the difference between Monolithic and Microservices architectures?',\n",
       "  'expected_answer': 'Monolithic architecture is a traditional model where all the components of an application are tightly integrated and operate as a single service. In contrast, microservices are small, independent services that communicate with each other over a network, allowing for more flexibility and scalability.',\n",
       "  'user_answer': 'hbdvwuywuywuycwq',\n",
       "  'similarity_score': -14.77,\n",
       "  'keyword_score': 0.0,\n",
       "  'total_score': -7.38,\n",
       "  'feedback': 'Try to match more key points in your answer.',\n",
       "  'keyword_matches': {'monolithic': False,\n",
       "   'microservices': False,\n",
       "   'independent services': False,\n",
       "   'tightly coupled': False}},\n",
       " {'question': 'Explain the concept of RESTful APIs.',\n",
       "  'expected_answer': 'REST (Representational State Transfer) is an architectural style for designing networked applications. RESTful APIs are web services that follow the principles of REST, using HTTP methods like GET, POST, PUT, and DELETE for communication between the client and server.',\n",
       "  'user_answer': '`xwxwxwxwxwxwx',\n",
       "  'similarity_score': -4.15,\n",
       "  'keyword_score': 0.0,\n",
       "  'total_score': -2.08,\n",
       "  'feedback': 'Try to match more key points in your answer.',\n",
       "  'keyword_matches': {'REST': False,\n",
       "   'HTTP': False,\n",
       "   'GET': False,\n",
       "   'POST': False,\n",
       "   'PUT': False,\n",
       "   'DELETE': False,\n",
       "   'API': False}},\n",
       " {'question': 'What is the purpose of HTTP status codes?',\n",
       "  'expected_answer': 'HTTP status codes are three-digit numbers returned by the server to indicate the result of the HTTP request. They are divided into five categories: 1xx (informational), 2xx (successful), 3xx (redirection), 4xx (client error), and 5xx (server error).',\n",
       "  'user_answer': 'vfvvdvvrvreververvrevrvrvrvrrvr',\n",
       "  'similarity_score': 5.1,\n",
       "  'keyword_score': 0.0,\n",
       "  'total_score': 2.55,\n",
       "  'feedback': 'Try to match more key points in your answer.',\n",
       "  'keyword_matches': {'status codes': False,\n",
       "   'HTTP': False,\n",
       "   'client error': False,\n",
       "   'server error': False,\n",
       "   'redirection': False}},\n",
       " {'question': 'What is database normalization, and why is it important?',\n",
       "  'expected_answer': 'Database normalization is the process of organizing the attributes and tables of a database to minimize redundancy and dependency. It ensures data integrity and reduces the likelihood of anomalies when updating or deleting data.',\n",
       "  'user_answer': 'cececececcececec',\n",
       "  'similarity_score': 2.75,\n",
       "  'keyword_score': 0.0,\n",
       "  'total_score': 1.38,\n",
       "  'feedback': 'Try to match more key points in your answer.',\n",
       "  'keyword_matches': {'normalization': False,\n",
       "   'redundancy': False,\n",
       "   'data integrity': False,\n",
       "   'database design': False}},\n",
       " {'question': 'What are the different types of databases?',\n",
       "  'expected_answer': 'The main types of databases are relational databases (SQL), NoSQL databases, in-memory databases, and graph databases. Relational databases use structured query language (SQL), while NoSQL databases store data in various formats like key-value pairs, documents, or graphs.',\n",
       "  'user_answer': 'Databases are used to collected data in an organised format, each database can be used for different purposes',\n",
       "  'similarity_score': 60.62,\n",
       "  'keyword_score': 0.0,\n",
       "  'total_score': 30.31,\n",
       "  'feedback': 'Try to match more key points in your answer.',\n",
       "  'keyword_matches': {'SQL': False,\n",
       "   'NoSQL': False,\n",
       "   'relational': False,\n",
       "   'graph': False,\n",
       "   'document': False}},\n",
       " {'question': 'What is caching, and how does it improve performance?',\n",
       "  'expected_answer': 'Caching is the process of storing frequently accessed data in a faster storage medium, such as memory. It reduces the time required to fetch data from the primary source (like a database) and improves the overall performance of an application.',\n",
       "  'user_answer': 'caching provides a way of storing data which can be accessed fastly',\n",
       "  'similarity_score': 79.48,\n",
       "  'keyword_score': 20.0,\n",
       "  'total_score': 49.74,\n",
       "  'feedback': 'Try to match more key points in your answer.',\n",
       "  'keyword_matches': {'caching': True,\n",
       "   'performance': False,\n",
       "   'data storage': False,\n",
       "   'memory': False,\n",
       "   'database': False}},\n",
       " {'question': 'What is the difference between SQL and NoSQL databases?',\n",
       "  'expected_answer': 'SQL databases are relational and store data in tables with a fixed schema. They are suitable for structured data and support complex queries. NoSQL databases, on the other hand, are non-relational and store data in various formats, allowing for more flexibility in terms of schema and data types.',\n",
       "  'user_answer': 'Relatioonal and non relational',\n",
       "  'similarity_score': 22.36,\n",
       "  'keyword_score': 20.0,\n",
       "  'total_score': 21.18,\n",
       "  'feedback': 'Try to match more key points in your answer.',\n",
       "  'keyword_matches': {'SQL': False,\n",
       "   'NoSQL': False,\n",
       "   'relational': True,\n",
       "   'non-relational': False,\n",
       "   'structured data': False}},\n",
       " {'question': 'What is JWT (JSON Web Token), and how is it used in authentication?',\n",
       "  'expected_answer': 'JWT is a compact, URL-safe token used for securely transmitting information between parties. It is often used in authentication to verify the identity of a user by embedding claims in the token, such as user roles or permissions.',\n",
       "  'user_answer': 'JWT is a token that can be comunivates across ans it contiNS certain encoded information such as user id and time to live',\n",
       "  'similarity_score': 84.0,\n",
       "  'keyword_score': 40.0,\n",
       "  'total_score': 62.0,\n",
       "  'feedback': 'Try to match more key points in your answer.',\n",
       "  'keyword_matches': {'JWT': True,\n",
       "   'authentication': False,\n",
       "   'token': True,\n",
       "   'security': False,\n",
       "   'identity': False}},\n",
       " {'question': 'What is the importance of load balancing in distributed systems?',\n",
       "  'expected_answer': 'Load balancing distributes incoming network traffic across multiple servers, ensuring that no single server is overwhelmed. It improves availability, reliability, and scalability in distributed systems.',\n",
       "  'user_answer': 'to distribute load across servers and systems',\n",
       "  'similarity_score': 77.55,\n",
       "  'keyword_score': 0.0,\n",
       "  'total_score': 38.77,\n",
       "  'feedback': 'Try to match more key points in your answer.',\n",
       "  'keyword_matches': {'load balancing': False,\n",
       "   'distributed systems': False,\n",
       "   'traffic distribution': False,\n",
       "   'scalability': False}}]"
      ]
     },
     "execution_count": 15,
     "metadata": {},
     "output_type": "execute_result"
    }
   ],
   "source": [
    "results = check_answers()\n",
    "results"
   ]
  },
  {
   "cell_type": "code",
   "execution_count": null,
   "id": "f7ef39ae-fae0-44c7-9c73-53246894741d",
   "metadata": {},
   "outputs": [],
   "source": [
    "## Contextual Feedback\n",
    "\n",
    "import openai\n",
    "\n",
    "# Set your OpenAI API Key\n",
    "openai.api_key = \"your-api-key-here\"\n",
    "\n",
    "# Example of expected answer for a question about Microservices\n",
    "EXPECTED_ANSWER = \"\"\"\n",
    "Microservices - also known as the microservice architecture - is an architectural style that structures an application \n",
    "as a collection of two or more services that are:\n",
    "- Independently deployable\n",
    "- Loosely coupled\n",
    "Services are typically organized around business capabilities. Each service is often owned by a single, small team.\n",
    "\"\"\"\n",
    "\n",
    "# Define the question\n",
    "question = \"What are Microservices?\"\n",
    "\n",
    "# Example user answer\n",
    "user_answer = \"Microservices are small, independent services that can be deployed independently and focus on specific business functions.\"\n",
    "\n",
    "def evaluate_answer(question, user_answer):\n",
    "    prompt = f\"Evaluate the following answer to the question: '{question}'\\n\\nExpected Answer:\\n{EXPECTED_ANSWER}\\n\\nUser Answer:\\n{user_answer}\\n\\nFeedback:\"\n",
    "\n",
    "    response = openai.Completion.create(\n",
    "        model=\"text-davinci-003\",  # or another GPT model version you prefer\n",
    "        prompt=prompt,\n",
    "        max_tokens=200,\n",
    "        temperature=0.5\n",
    "    )\n",
    "\n",
    "    feedback = response.choices[0].text.strip()\n",
    "    return feedback\n",
    "\n",
    "# Get feedback on the user's answer\n",
    "feedback = evaluate_answer(question, user_answer)\n",
    "print(feedback)\n"
   ]
  }
 ],
 "metadata": {
  "kernelspec": {
   "display_name": "Python [conda env:base] *",
   "language": "python",
   "name": "conda-base-py"
  },
  "language_info": {
   "codemirror_mode": {
    "name": "ipython",
    "version": 3
   },
   "file_extension": ".py",
   "mimetype": "text/x-python",
   "name": "python",
   "nbconvert_exporter": "python",
   "pygments_lexer": "ipython3",
   "version": "3.12.7"
  }
 },
 "nbformat": 4,
 "nbformat_minor": 5
}
